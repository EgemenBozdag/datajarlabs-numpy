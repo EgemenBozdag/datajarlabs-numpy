{
  "nbformat": 4,
  "nbformat_minor": 0,
  "metadata": {
    "colab": {
      "name": "datajarlabs-numpy.ipynb",
      "provenance": []
    },
    "kernelspec": {
      "name": "python3",
      "display_name": "Python 3"
    }
  },
  "cells": [
    {
      "cell_type": "markdown",
      "metadata": {
        "id": "D-zlRjjxheUl",
        "colab_type": "text"
      },
      "source": [
        "Lütfen aşağıdaki ödevlere çözümlerinizi Jupyter Notebook olarak GitHub hesabınıza yükleyin ve GitHub linkini aşağıdaki buton ile paylaşın. Kafanıza takılan konuları mentörünüzle konuşabilir ya da ofis saatinde Slack üzerinden sorabilirsiniz.\n",
        "\n",
        "1'den 200'ye kadar olan çift sayılardan oluşan 10 X 10'luk bir dizi oluşturun. arange() fonksiyonu yardımcı olabilir.\n",
        "\n",
        "Parametre olarak girilen satır ve kolon sayısına göre kenarları 1'lerden, içi 0'lardan oluşan dizi döndüren bir fonksiyon yazınız.\n",
        "\n",
        " kenar(5,7) --> array([[1., 1., 1., 1., 1., 1., 1.],\n",
        "                       [1., 0., 0., 0., 0., 0., 1.],\n",
        "                       [1., 0., 0., 0., 0., 0., 1.],\n",
        "                       [1., 0., 0., 0., 0., 0., 1.],\n",
        "                       [1., 1., 1., 1., 1., 1., 1.]])"
      ]
    },
    {
      "cell_type": "code",
      "metadata": {
        "id": "tZYc2brJdBzM",
        "colab_type": "code",
        "colab": {}
      },
      "source": [
        "import numpy as np"
      ],
      "execution_count": 0,
      "outputs": []
    },
    {
      "cell_type": "code",
      "metadata": {
        "id": "jD0wc-wQdENT",
        "colab_type": "code",
        "colab": {
          "base_uri": "https://localhost:8080/",
          "height": 187
        },
        "outputId": "2e46056d-f338-4da4-f114-ade4a9d799c4"
      },
      "source": [
        "odd = np.arange(0,200,2)\n",
        "odd.shape = (10,10)\n",
        "odd"
      ],
      "execution_count": 2,
      "outputs": [
        {
          "output_type": "execute_result",
          "data": {
            "text/plain": [
              "array([[  0,   2,   4,   6,   8,  10,  12,  14,  16,  18],\n",
              "       [ 20,  22,  24,  26,  28,  30,  32,  34,  36,  38],\n",
              "       [ 40,  42,  44,  46,  48,  50,  52,  54,  56,  58],\n",
              "       [ 60,  62,  64,  66,  68,  70,  72,  74,  76,  78],\n",
              "       [ 80,  82,  84,  86,  88,  90,  92,  94,  96,  98],\n",
              "       [100, 102, 104, 106, 108, 110, 112, 114, 116, 118],\n",
              "       [120, 122, 124, 126, 128, 130, 132, 134, 136, 138],\n",
              "       [140, 142, 144, 146, 148, 150, 152, 154, 156, 158],\n",
              "       [160, 162, 164, 166, 168, 170, 172, 174, 176, 178],\n",
              "       [180, 182, 184, 186, 188, 190, 192, 194, 196, 198]])"
            ]
          },
          "metadata": {
            "tags": []
          },
          "execution_count": 2
        }
      ]
    },
    {
      "cell_type": "code",
      "metadata": {
        "id": "YuyJgcODdIhh",
        "colab_type": "code",
        "colab": {
          "base_uri": "https://localhost:8080/",
          "height": 238
        },
        "outputId": "17a81951-488d-42fb-aefd-61273b554e5f"
      },
      "source": [
        "result = np.ones ((5,7))\n",
        "print (result)\n",
        "x = np.zeros ((3,5))\n",
        "print (x)\n",
        "result [1:4,1:6] = x\n",
        "print (result)\n"
      ],
      "execution_count": 20,
      "outputs": [
        {
          "output_type": "stream",
          "text": [
            "[[1. 1. 1. 1. 1. 1. 1.]\n",
            " [1. 1. 1. 1. 1. 1. 1.]\n",
            " [1. 1. 1. 1. 1. 1. 1.]\n",
            " [1. 1. 1. 1. 1. 1. 1.]\n",
            " [1. 1. 1. 1. 1. 1. 1.]]\n",
            "[[0. 0. 0. 0. 0.]\n",
            " [0. 0. 0. 0. 0.]\n",
            " [0. 0. 0. 0. 0.]]\n",
            "[[1. 1. 1. 1. 1. 1. 1.]\n",
            " [1. 0. 0. 0. 0. 0. 1.]\n",
            " [1. 0. 0. 0. 0. 0. 1.]\n",
            " [1. 0. 0. 0. 0. 0. 1.]\n",
            " [1. 1. 1. 1. 1. 1. 1.]]\n"
          ],
          "name": "stdout"
        }
      ]
    },
    {
      "cell_type": "code",
      "metadata": {
        "id": "wCV-_Ry3dLSR",
        "colab_type": "code",
        "colab": {}
      },
      "source": [
        ""
      ],
      "execution_count": 0,
      "outputs": []
    }
  ]
}